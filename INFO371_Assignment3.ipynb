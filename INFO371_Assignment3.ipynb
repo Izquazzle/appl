{
  "nbformat": 4,
  "nbformat_minor": 0,
  "metadata": {
    "colab": {
      "provenance": [],
      "include_colab_link": true
    },
    "kernelspec": {
      "display_name": "Python 3",
      "language": "python",
      "name": "python3"
    },
    "language_info": {
      "codemirror_mode": {
        "name": "ipython",
        "version": 3
      },
      "file_extension": ".py",
      "mimetype": "text/x-python",
      "name": "python",
      "nbconvert_exporter": "python",
      "pygments_lexer": "ipython3",
      "version": "3.7.6"
    }
  },
  "cells": [
    {
      "cell_type": "markdown",
      "metadata": {
        "id": "view-in-github",
        "colab_type": "text"
      },
      "source": [
        "<a href=\"https://colab.research.google.com/github/Izquazzle/appl/blob/main/INFO371_Assignment3.ipynb\" target=\"_parent\"><img src=\"https://colab.research.google.com/assets/colab-badge.svg\" alt=\"Open In Colab\"/></a>"
      ]
    },
    {
      "cell_type": "markdown",
      "metadata": {
        "id": "85Z_qr_HpWBn"
      },
      "source": [
        "# Drexel University\n",
        "## College of Computing and Informatics\n",
        "## INFO 371: Data Mining Applications\n",
        "## Assignment 3\n",
        "\n",
        "## Due Date: Sunday, May 11, 2025\n",
        "### This assignment counts for 15% of the final grade\n",
        "\n",
        "\n",
        "## **DON'T FORGET TO PUT YOUR NAME BELOW**\n",
        "\n",
        "## **NAME: Samay Patel**\n",
        "\n",
        "\n",
        "### A. What to Hand In\n",
        "\n",
        "1. A completed this Jupyter notebook.\n",
        "2. Any data sets used in the assignment.\n",
        "3. Any multimedia and images used in the assignment.\n",
        "\n",
        "### B. How to Hand In\n",
        "\n",
        "Submit your files through the course website in the Blackboard Learn system.\n",
        "\n",
        "### C. When to Hand In\n",
        "\n",
        "1. Submit your assignment no later than 11:59pm in the due date.\n",
        "2. There will be a 10% (absolute value) deduction for each day of lateness, to a maximum of 3 days; assignments will not be accepted beyond that point. Missing work will earn a zero grade.\n",
        "\n",
        "### D. Answer the following questions"
      ]
    },
    {
      "cell_type": "markdown",
      "metadata": {
        "id": "56fbe4nI7qgo"
      },
      "source": [
        "# Import packages"
      ]
    },
    {
      "cell_type": "code",
      "metadata": {
        "id": "KNggTCN47p-P"
      },
      "source": [
        "import pandas as pd\n",
        "import numpy as np\n",
        "import matplotlib.pyplot as plt\n",
        "import matplotlib\n",
        "from google.colab import files"
      ],
      "execution_count": 18,
      "outputs": []
    },
    {
      "cell_type": "markdown",
      "metadata": {
        "id": "rKyoa5MwfWEK"
      },
      "source": [
        "# Import the classifiers: KNeighborsClassifier, DecisionTreeClassifier, RandomForestClassifier, and MultinomialNB"
      ]
    },
    {
      "cell_type": "code",
      "metadata": {
        "id": "A9Qm7u2Ifh55"
      },
      "source": [
        "from sklearn.neighbors import KNeighborsClassifier\n",
        "from sklearn.tree import DecisionTreeClassifier\n",
        "from sklearn.ensemble import RandomForestClassifier\n",
        "from sklearn.naive_bayes import MultinomialNB"
      ],
      "execution_count": 9,
      "outputs": []
    },
    {
      "cell_type": "markdown",
      "metadata": {
        "id": "QMPxbcS2mceJ"
      },
      "source": [
        "# Import CountVectorizer and TfidfVectorizer"
      ]
    },
    {
      "cell_type": "code",
      "metadata": {
        "id": "Of1_YQYombdo"
      },
      "source": [
        "from sklearn.feature_extraction.text import CountVectorizer, TfidfVectorizer"
      ],
      "execution_count": 10,
      "outputs": []
    },
    {
      "cell_type": "markdown",
      "metadata": {
        "id": "Iw2Ql_2wgAJh"
      },
      "source": [
        "# Import evaluation metrics"
      ]
    },
    {
      "cell_type": "code",
      "metadata": {
        "id": "UotG42uOgGra"
      },
      "source": [
        "from sklearn.metrics import precision_recall_fscore_support"
      ],
      "execution_count": 11,
      "outputs": []
    },
    {
      "cell_type": "markdown",
      "metadata": {
        "id": "ZWpxEh3wxHsb"
      },
      "source": [
        "# Import the train_test_split function"
      ]
    },
    {
      "cell_type": "code",
      "metadata": {
        "id": "jwopWqouiba6"
      },
      "source": [
        "from sklearn.model_selection import train_test_split"
      ],
      "execution_count": 12,
      "outputs": []
    },
    {
      "cell_type": "markdown",
      "metadata": {
        "id": "69a14uuvxknZ"
      },
      "source": [
        "# Answer the following questions"
      ]
    },
    {
      "cell_type": "markdown",
      "metadata": {
        "id": "5PGFnDU57lOO"
      },
      "source": [
        "\n",
        "## Question 1 [5 points]: Collecting and uploading the movie review data.\n",
        "In this assignment, you will apply various classification models and text vectorizations for sentiment analysis on movie reviews. The original data are from: https://www.kaggle.com/lakshmi25npathi/imdb-dataset-of-50k-movie-reviews It contains 50K movie reviews. To reduce the size of the data, I have extracted 5K random reviews to this file: `imdb_reviews_5k.csv`. You can work on this small data set in this assignment. Now, upload the 5k reviews and read them in as a DataFrame. Show the columns and size of the data. Display the first 5 rows."
      ]
    },
    {
      "cell_type": "code",
      "source": [
        "#import statement had to be called again for make dataframe work\n",
        "import pandas as pd\n",
        "\n",
        "# Update the URL to point to the raw CSV file on GitHub\n",
        "url = 'https://raw.githubusercontent.com/Izquazzle/imdb_reviews_5k/main/imdb_reviews_5k.csv'\n",
        "\n",
        "#converts csv file to dataframe\n",
        "df = pd.read_csv(url)\n",
        "\n",
        "#displays first 5 rows\n",
        "df.head(5)"
      ],
      "metadata": {
        "id": "pfeZ3UUDbFHn",
        "outputId": "b59d3723-2a53-4971-ec94-f34f750a2670",
        "colab": {
          "base_uri": "https://localhost:8080/",
          "height": 206
        }
      },
      "execution_count": 20,
      "outputs": [
        {
          "output_type": "execute_result",
          "data": {
            "text/plain": [
              "                                              review sentiment\n",
              "0  Uggh! Hanna-Barbera of the 60s and 70s! What l...  negative\n",
              "1  Cinema's greatest period started in post-War E...  positive\n",
              "2  I waited almost 25 years to see this movie, th...  negative\n",
              "3  Ok so I was bored and I watched it all the way...  negative\n",
              "4  With a humor that would appeal to an exclusive...  negative"
            ],
            "text/html": [
              "\n",
              "  <div id=\"df-959cbf31-ed52-48b0-9b20-d9bc687daa8f\" class=\"colab-df-container\">\n",
              "    <div>\n",
              "<style scoped>\n",
              "    .dataframe tbody tr th:only-of-type {\n",
              "        vertical-align: middle;\n",
              "    }\n",
              "\n",
              "    .dataframe tbody tr th {\n",
              "        vertical-align: top;\n",
              "    }\n",
              "\n",
              "    .dataframe thead th {\n",
              "        text-align: right;\n",
              "    }\n",
              "</style>\n",
              "<table border=\"1\" class=\"dataframe\">\n",
              "  <thead>\n",
              "    <tr style=\"text-align: right;\">\n",
              "      <th></th>\n",
              "      <th>review</th>\n",
              "      <th>sentiment</th>\n",
              "    </tr>\n",
              "  </thead>\n",
              "  <tbody>\n",
              "    <tr>\n",
              "      <th>0</th>\n",
              "      <td>Uggh! Hanna-Barbera of the 60s and 70s! What l...</td>\n",
              "      <td>negative</td>\n",
              "    </tr>\n",
              "    <tr>\n",
              "      <th>1</th>\n",
              "      <td>Cinema's greatest period started in post-War E...</td>\n",
              "      <td>positive</td>\n",
              "    </tr>\n",
              "    <tr>\n",
              "      <th>2</th>\n",
              "      <td>I waited almost 25 years to see this movie, th...</td>\n",
              "      <td>negative</td>\n",
              "    </tr>\n",
              "    <tr>\n",
              "      <th>3</th>\n",
              "      <td>Ok so I was bored and I watched it all the way...</td>\n",
              "      <td>negative</td>\n",
              "    </tr>\n",
              "    <tr>\n",
              "      <th>4</th>\n",
              "      <td>With a humor that would appeal to an exclusive...</td>\n",
              "      <td>negative</td>\n",
              "    </tr>\n",
              "  </tbody>\n",
              "</table>\n",
              "</div>\n",
              "    <div class=\"colab-df-buttons\">\n",
              "\n",
              "  <div class=\"colab-df-container\">\n",
              "    <button class=\"colab-df-convert\" onclick=\"convertToInteractive('df-959cbf31-ed52-48b0-9b20-d9bc687daa8f')\"\n",
              "            title=\"Convert this dataframe to an interactive table.\"\n",
              "            style=\"display:none;\">\n",
              "\n",
              "  <svg xmlns=\"http://www.w3.org/2000/svg\" height=\"24px\" viewBox=\"0 -960 960 960\">\n",
              "    <path d=\"M120-120v-720h720v720H120Zm60-500h600v-160H180v160Zm220 220h160v-160H400v160Zm0 220h160v-160H400v160ZM180-400h160v-160H180v160Zm440 0h160v-160H620v160ZM180-180h160v-160H180v160Zm440 0h160v-160H620v160Z\"/>\n",
              "  </svg>\n",
              "    </button>\n",
              "\n",
              "  <style>\n",
              "    .colab-df-container {\n",
              "      display:flex;\n",
              "      gap: 12px;\n",
              "    }\n",
              "\n",
              "    .colab-df-convert {\n",
              "      background-color: #E8F0FE;\n",
              "      border: none;\n",
              "      border-radius: 50%;\n",
              "      cursor: pointer;\n",
              "      display: none;\n",
              "      fill: #1967D2;\n",
              "      height: 32px;\n",
              "      padding: 0 0 0 0;\n",
              "      width: 32px;\n",
              "    }\n",
              "\n",
              "    .colab-df-convert:hover {\n",
              "      background-color: #E2EBFA;\n",
              "      box-shadow: 0px 1px 2px rgba(60, 64, 67, 0.3), 0px 1px 3px 1px rgba(60, 64, 67, 0.15);\n",
              "      fill: #174EA6;\n",
              "    }\n",
              "\n",
              "    .colab-df-buttons div {\n",
              "      margin-bottom: 4px;\n",
              "    }\n",
              "\n",
              "    [theme=dark] .colab-df-convert {\n",
              "      background-color: #3B4455;\n",
              "      fill: #D2E3FC;\n",
              "    }\n",
              "\n",
              "    [theme=dark] .colab-df-convert:hover {\n",
              "      background-color: #434B5C;\n",
              "      box-shadow: 0px 1px 3px 1px rgba(0, 0, 0, 0.15);\n",
              "      filter: drop-shadow(0px 1px 2px rgba(0, 0, 0, 0.3));\n",
              "      fill: #FFFFFF;\n",
              "    }\n",
              "  </style>\n",
              "\n",
              "    <script>\n",
              "      const buttonEl =\n",
              "        document.querySelector('#df-959cbf31-ed52-48b0-9b20-d9bc687daa8f button.colab-df-convert');\n",
              "      buttonEl.style.display =\n",
              "        google.colab.kernel.accessAllowed ? 'block' : 'none';\n",
              "\n",
              "      async function convertToInteractive(key) {\n",
              "        const element = document.querySelector('#df-959cbf31-ed52-48b0-9b20-d9bc687daa8f');\n",
              "        const dataTable =\n",
              "          await google.colab.kernel.invokeFunction('convertToInteractive',\n",
              "                                                    [key], {});\n",
              "        if (!dataTable) return;\n",
              "\n",
              "        const docLinkHtml = 'Like what you see? Visit the ' +\n",
              "          '<a target=\"_blank\" href=https://colab.research.google.com/notebooks/data_table.ipynb>data table notebook</a>'\n",
              "          + ' to learn more about interactive tables.';\n",
              "        element.innerHTML = '';\n",
              "        dataTable['output_type'] = 'display_data';\n",
              "        await google.colab.output.renderOutput(dataTable, element);\n",
              "        const docLink = document.createElement('div');\n",
              "        docLink.innerHTML = docLinkHtml;\n",
              "        element.appendChild(docLink);\n",
              "      }\n",
              "    </script>\n",
              "  </div>\n",
              "\n",
              "\n",
              "    <div id=\"df-01f2048b-f4b9-4801-ad41-6eb6d73730fb\">\n",
              "      <button class=\"colab-df-quickchart\" onclick=\"quickchart('df-01f2048b-f4b9-4801-ad41-6eb6d73730fb')\"\n",
              "                title=\"Suggest charts\"\n",
              "                style=\"display:none;\">\n",
              "\n",
              "<svg xmlns=\"http://www.w3.org/2000/svg\" height=\"24px\"viewBox=\"0 0 24 24\"\n",
              "     width=\"24px\">\n",
              "    <g>\n",
              "        <path d=\"M19 3H5c-1.1 0-2 .9-2 2v14c0 1.1.9 2 2 2h14c1.1 0 2-.9 2-2V5c0-1.1-.9-2-2-2zM9 17H7v-7h2v7zm4 0h-2V7h2v10zm4 0h-2v-4h2v4z\"/>\n",
              "    </g>\n",
              "</svg>\n",
              "      </button>\n",
              "\n",
              "<style>\n",
              "  .colab-df-quickchart {\n",
              "      --bg-color: #E8F0FE;\n",
              "      --fill-color: #1967D2;\n",
              "      --hover-bg-color: #E2EBFA;\n",
              "      --hover-fill-color: #174EA6;\n",
              "      --disabled-fill-color: #AAA;\n",
              "      --disabled-bg-color: #DDD;\n",
              "  }\n",
              "\n",
              "  [theme=dark] .colab-df-quickchart {\n",
              "      --bg-color: #3B4455;\n",
              "      --fill-color: #D2E3FC;\n",
              "      --hover-bg-color: #434B5C;\n",
              "      --hover-fill-color: #FFFFFF;\n",
              "      --disabled-bg-color: #3B4455;\n",
              "      --disabled-fill-color: #666;\n",
              "  }\n",
              "\n",
              "  .colab-df-quickchart {\n",
              "    background-color: var(--bg-color);\n",
              "    border: none;\n",
              "    border-radius: 50%;\n",
              "    cursor: pointer;\n",
              "    display: none;\n",
              "    fill: var(--fill-color);\n",
              "    height: 32px;\n",
              "    padding: 0;\n",
              "    width: 32px;\n",
              "  }\n",
              "\n",
              "  .colab-df-quickchart:hover {\n",
              "    background-color: var(--hover-bg-color);\n",
              "    box-shadow: 0 1px 2px rgba(60, 64, 67, 0.3), 0 1px 3px 1px rgba(60, 64, 67, 0.15);\n",
              "    fill: var(--button-hover-fill-color);\n",
              "  }\n",
              "\n",
              "  .colab-df-quickchart-complete:disabled,\n",
              "  .colab-df-quickchart-complete:disabled:hover {\n",
              "    background-color: var(--disabled-bg-color);\n",
              "    fill: var(--disabled-fill-color);\n",
              "    box-shadow: none;\n",
              "  }\n",
              "\n",
              "  .colab-df-spinner {\n",
              "    border: 2px solid var(--fill-color);\n",
              "    border-color: transparent;\n",
              "    border-bottom-color: var(--fill-color);\n",
              "    animation:\n",
              "      spin 1s steps(1) infinite;\n",
              "  }\n",
              "\n",
              "  @keyframes spin {\n",
              "    0% {\n",
              "      border-color: transparent;\n",
              "      border-bottom-color: var(--fill-color);\n",
              "      border-left-color: var(--fill-color);\n",
              "    }\n",
              "    20% {\n",
              "      border-color: transparent;\n",
              "      border-left-color: var(--fill-color);\n",
              "      border-top-color: var(--fill-color);\n",
              "    }\n",
              "    30% {\n",
              "      border-color: transparent;\n",
              "      border-left-color: var(--fill-color);\n",
              "      border-top-color: var(--fill-color);\n",
              "      border-right-color: var(--fill-color);\n",
              "    }\n",
              "    40% {\n",
              "      border-color: transparent;\n",
              "      border-right-color: var(--fill-color);\n",
              "      border-top-color: var(--fill-color);\n",
              "    }\n",
              "    60% {\n",
              "      border-color: transparent;\n",
              "      border-right-color: var(--fill-color);\n",
              "    }\n",
              "    80% {\n",
              "      border-color: transparent;\n",
              "      border-right-color: var(--fill-color);\n",
              "      border-bottom-color: var(--fill-color);\n",
              "    }\n",
              "    90% {\n",
              "      border-color: transparent;\n",
              "      border-bottom-color: var(--fill-color);\n",
              "    }\n",
              "  }\n",
              "</style>\n",
              "\n",
              "      <script>\n",
              "        async function quickchart(key) {\n",
              "          const quickchartButtonEl =\n",
              "            document.querySelector('#' + key + ' button');\n",
              "          quickchartButtonEl.disabled = true;  // To prevent multiple clicks.\n",
              "          quickchartButtonEl.classList.add('colab-df-spinner');\n",
              "          try {\n",
              "            const charts = await google.colab.kernel.invokeFunction(\n",
              "                'suggestCharts', [key], {});\n",
              "          } catch (error) {\n",
              "            console.error('Error during call to suggestCharts:', error);\n",
              "          }\n",
              "          quickchartButtonEl.classList.remove('colab-df-spinner');\n",
              "          quickchartButtonEl.classList.add('colab-df-quickchart-complete');\n",
              "        }\n",
              "        (() => {\n",
              "          let quickchartButtonEl =\n",
              "            document.querySelector('#df-01f2048b-f4b9-4801-ad41-6eb6d73730fb button');\n",
              "          quickchartButtonEl.style.display =\n",
              "            google.colab.kernel.accessAllowed ? 'block' : 'none';\n",
              "        })();\n",
              "      </script>\n",
              "    </div>\n",
              "\n",
              "    </div>\n",
              "  </div>\n"
            ],
            "application/vnd.google.colaboratory.intrinsic+json": {
              "type": "dataframe",
              "variable_name": "df",
              "summary": "{\n  \"name\": \"df\",\n  \"rows\": 5000,\n  \"fields\": [\n    {\n      \"column\": \"review\",\n      \"properties\": {\n        \"dtype\": \"string\",\n        \"num_unique_values\": 4995,\n        \"samples\": [\n          \"My jaw fell so many times watching this flick, I have bruises. Okay, granted, I really wasn't expecting the quality of, say, The Others or even Thirteen Ghosts (the new one, which was just dreadful and is still head and shoulders above this insanity). Someone else noted the thin characters...I wouldn't call them \\\"thin\\\". \\\"Thin\\\" implies there might be something to them. How about almost non-existent? In no particular order we have: The Girl Who Will Scream; The American Who Will Figure It All Out; The Macho Guy Who Will Just Bull Through Everything Until He Gets Killed: The Wise Black Man Who Will Die Early; The Extra Guy Who Is There To Die First; The Extra Woman Who Is There To Play Tough. That's it. That's your character list and that is what they are and what they remain from beginning to end. If they were \\\"thin\\\" they might, at least, change a little bit from beginning to end. But they don't. Well, okay, the American guy decides he's going to stay with the fieldwork at the end and the Screaming Girl goes back to wherever she came from. That's the change. Other than that, they all act according to their assigned roles and rarely betray any real emotion when they finally meet up with the menace.<br /><br />Now, the producers get props for an original menace, I will say. I had understood the story was going to be \\\"Tremors\\\" but with ants instead of giant worms. I give the writer credit: these are very cool, very scary ants and what they do with bones is excellent. (The first time the \\\"bone snatcher\\\" appear, I admit I jumped a few feet.)Unfortunately, the very cool concept becomes Alien in the Desert very quickly. We get a lot of commentary on ants that may or may not be true, but we don't get much of the mythology on which the menace is based. And we get every monster movie clich\\u00e9 ever made. People go into places they know they shouldn't and when they have no compelling reason to. Moronic characters try to hinder our heroes and die for it. One character does double duty as \\\"scientist who doesn't want to kill the monster but study it\\\". A Very Cool Gadget is introduced only so the American can tell everyone something about ants that, gee, I hope everyone knows anyway. Then the gadget is broken. Our heroes run out of the one thing that can keep the menace at bay. And then there is that final, annoying moment when we know the menace is still with us--and wonder exactly what and how the hey the hero or heroine came by it. It completely renders everything that went before as useless and false.<br /><br />Three stars for the cool use of ants and bones. Nothing at all for clich\\u00e9s, clunky dialogue and dim bulb characters.\",\n          \"This is one for the Golden Turkey book. It's another of those \\\"putting on a show\\\" flicks. The dialogue is turgid. The music is terrible. The costumes may be the worst ever. And the Nick Castle choreography is hilariously dreadful. Check it out, oh ye who love bad flicks. Only Perry Como is tolerable.\",\n          \"This is a really mediocre film in the vein of \\\"Buckaroo Banzai.\\\" The cast runs around like \\\"Mad Max\\\" wannabes, and they seem to be sharing a joke that they do not want to share with the audience. Wheeler-Nicholson is one of the those guilty pleasure actresses you are delighted to stumble across in films, but she isn't worth the price of rental. Space Maggot starts an electrical fire, and burns a vote of 4.\"\n        ],\n        \"semantic_type\": \"\",\n        \"description\": \"\"\n      }\n    },\n    {\n      \"column\": \"sentiment\",\n      \"properties\": {\n        \"dtype\": \"category\",\n        \"num_unique_values\": 2,\n        \"samples\": [\n          \"positive\",\n          \"negative\"\n        ],\n        \"semantic_type\": \"\",\n        \"description\": \"\"\n      }\n    }\n  ]\n}"
            }
          },
          "metadata": {},
          "execution_count": 20
        }
      ]
    },
    {
      "cell_type": "markdown",
      "metadata": {
        "id": "J_lTEzhtBL-_"
      },
      "source": [
        "## Question 2 [5 points]: Show the distribution of the sentiment values (positive and negative). Are the values evenly distributed in the data set?"
      ]
    },
    {
      "cell_type": "code",
      "source": [],
      "metadata": {
        "id": "p8eN9i0YbFwb"
      },
      "execution_count": null,
      "outputs": []
    },
    {
      "cell_type": "markdown",
      "metadata": {
        "id": "kGRUiIuoBi3n"
      },
      "source": [
        "## Question 3 [10 points]: You will use the sentiment values as classification labels. Extract the target labels `y` by converting the sentiment values to 1 and 0.  "
      ]
    },
    {
      "cell_type": "code",
      "source": [],
      "metadata": {
        "id": "zbXIVnpsbGZ6"
      },
      "execution_count": null,
      "outputs": []
    },
    {
      "cell_type": "markdown",
      "metadata": {
        "id": "2qHxBVO1B8hn"
      },
      "source": [
        "## Question 4 [10 points]: Prepare training and test data sets.\n",
        "Split the review text and target labels into review_train, review_test, y_train, and y_test. Use 80% of the data for taining and 20% for test. Do you need to consider statification when splitting?"
      ]
    },
    {
      "cell_type": "code",
      "source": [],
      "metadata": {
        "id": "oOrwAp97bHXl"
      },
      "execution_count": null,
      "outputs": []
    },
    {
      "cell_type": "markdown",
      "metadata": {
        "id": "30ny8Wh-Fli8"
      },
      "source": [
        "## Question 5 [50 points]: Classify the sentiment of the reviews using the combinations of various classifiers and vectorizers.\n",
        "In this assignment, you should use the following list of models with default parameters:\n",
        "```\n",
        "models= {'knn': KNeighborsClassifier(), 'dt': DecisionTreeClassifier(), 'rf': RandomForestClassifier(), 'nb':MultinomialNB()}\n",
        "```\n",
        "and the following list of vectorizers:\n",
        "```\n",
        "vectorizers = {'bow_binary':CountVectorizer(ngram_range = (1,1), binary=True), \\\n",
        "               'bow_count': CountVectorizer(ngram_range = (1,1)), \\\n",
        "               'tfidf': TfidfVectorizer()}\n",
        "```\n",
        "The total number of combinations is 12. Compare the performance of the 12 model combinations in terms of `precision`, `recall`, and `f1-measure`. Visualize the performance as illustrated in the following figure:\n",
        "![performance_comparison](https://i.imgur.com/Z4QKCmp.png)"
      ]
    },
    {
      "cell_type": "code",
      "source": [],
      "metadata": {
        "id": "DExIFQr1bKTy"
      },
      "execution_count": null,
      "outputs": []
    },
    {
      "cell_type": "markdown",
      "metadata": {
        "id": "fpaq7vkRHbhn"
      },
      "source": [
        "## Question 6 [20 points]: Discuss the performance of the various model and vectorizer combinations. Which type of model gave a better performance? Do the vectorization methods affect the performance? Do you have any suggestions on changing the model parameters that could improve the performance? Why?"
      ]
    },
    {
      "cell_type": "code",
      "metadata": {
        "id": "C7LggfiBqdU4"
      },
      "source": [],
      "execution_count": null,
      "outputs": []
    }
  ]
}